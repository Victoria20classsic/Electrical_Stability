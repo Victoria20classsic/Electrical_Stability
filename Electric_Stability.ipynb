{
 "cells": [
  {
   "cell_type": "code",
   "execution_count": 16,
   "id": "39315f56",
   "metadata": {},
   "outputs": [
    {
     "data": {
      "text/html": [
       "<div>\n",
       "<style scoped>\n",
       "    .dataframe tbody tr th:only-of-type {\n",
       "        vertical-align: middle;\n",
       "    }\n",
       "\n",
       "    .dataframe tbody tr th {\n",
       "        vertical-align: top;\n",
       "    }\n",
       "\n",
       "    .dataframe thead th {\n",
       "        text-align: right;\n",
       "    }\n",
       "</style>\n",
       "<table border=\"1\" class=\"dataframe\">\n",
       "  <thead>\n",
       "    <tr style=\"text-align: right;\">\n",
       "      <th></th>\n",
       "      <th>tau1</th>\n",
       "      <th>tau2</th>\n",
       "      <th>tau3</th>\n",
       "      <th>tau4</th>\n",
       "      <th>p1</th>\n",
       "      <th>p2</th>\n",
       "      <th>p3</th>\n",
       "      <th>p4</th>\n",
       "      <th>g1</th>\n",
       "      <th>g2</th>\n",
       "      <th>g3</th>\n",
       "      <th>g4</th>\n",
       "      <th>stab</th>\n",
       "      <th>stabf</th>\n",
       "    </tr>\n",
       "  </thead>\n",
       "  <tbody>\n",
       "    <tr>\n",
       "      <th>0</th>\n",
       "      <td>2.959060</td>\n",
       "      <td>3.079885</td>\n",
       "      <td>8.381025</td>\n",
       "      <td>9.780754</td>\n",
       "      <td>3.763085</td>\n",
       "      <td>-0.782604</td>\n",
       "      <td>-1.257395</td>\n",
       "      <td>-1.723086</td>\n",
       "      <td>0.650456</td>\n",
       "      <td>0.859578</td>\n",
       "      <td>0.887445</td>\n",
       "      <td>0.958034</td>\n",
       "      <td>0.055347</td>\n",
       "      <td>unstable</td>\n",
       "    </tr>\n",
       "    <tr>\n",
       "      <th>1</th>\n",
       "      <td>9.304097</td>\n",
       "      <td>4.902524</td>\n",
       "      <td>3.047541</td>\n",
       "      <td>1.369357</td>\n",
       "      <td>5.067812</td>\n",
       "      <td>-1.940058</td>\n",
       "      <td>-1.872742</td>\n",
       "      <td>-1.255012</td>\n",
       "      <td>0.413441</td>\n",
       "      <td>0.862414</td>\n",
       "      <td>0.562139</td>\n",
       "      <td>0.781760</td>\n",
       "      <td>-0.005957</td>\n",
       "      <td>stable</td>\n",
       "    </tr>\n",
       "    <tr>\n",
       "      <th>2</th>\n",
       "      <td>8.971707</td>\n",
       "      <td>8.848428</td>\n",
       "      <td>3.046479</td>\n",
       "      <td>1.214518</td>\n",
       "      <td>3.405158</td>\n",
       "      <td>-1.207456</td>\n",
       "      <td>-1.277210</td>\n",
       "      <td>-0.920492</td>\n",
       "      <td>0.163041</td>\n",
       "      <td>0.766689</td>\n",
       "      <td>0.839444</td>\n",
       "      <td>0.109853</td>\n",
       "      <td>0.003471</td>\n",
       "      <td>unstable</td>\n",
       "    </tr>\n",
       "    <tr>\n",
       "      <th>3</th>\n",
       "      <td>0.716415</td>\n",
       "      <td>7.669600</td>\n",
       "      <td>4.486641</td>\n",
       "      <td>2.340563</td>\n",
       "      <td>3.963791</td>\n",
       "      <td>-1.027473</td>\n",
       "      <td>-1.938944</td>\n",
       "      <td>-0.997374</td>\n",
       "      <td>0.446209</td>\n",
       "      <td>0.976744</td>\n",
       "      <td>0.929381</td>\n",
       "      <td>0.362718</td>\n",
       "      <td>0.028871</td>\n",
       "      <td>unstable</td>\n",
       "    </tr>\n",
       "    <tr>\n",
       "      <th>4</th>\n",
       "      <td>3.134112</td>\n",
       "      <td>7.608772</td>\n",
       "      <td>4.943759</td>\n",
       "      <td>9.857573</td>\n",
       "      <td>3.525811</td>\n",
       "      <td>-1.125531</td>\n",
       "      <td>-1.845975</td>\n",
       "      <td>-0.554305</td>\n",
       "      <td>0.797110</td>\n",
       "      <td>0.455450</td>\n",
       "      <td>0.656947</td>\n",
       "      <td>0.820923</td>\n",
       "      <td>0.049860</td>\n",
       "      <td>unstable</td>\n",
       "    </tr>\n",
       "  </tbody>\n",
       "</table>\n",
       "</div>"
      ],
      "text/plain": [
       "       tau1      tau2      tau3      tau4        p1        p2        p3  \\\n",
       "0  2.959060  3.079885  8.381025  9.780754  3.763085 -0.782604 -1.257395   \n",
       "1  9.304097  4.902524  3.047541  1.369357  5.067812 -1.940058 -1.872742   \n",
       "2  8.971707  8.848428  3.046479  1.214518  3.405158 -1.207456 -1.277210   \n",
       "3  0.716415  7.669600  4.486641  2.340563  3.963791 -1.027473 -1.938944   \n",
       "4  3.134112  7.608772  4.943759  9.857573  3.525811 -1.125531 -1.845975   \n",
       "\n",
       "         p4        g1        g2        g3        g4      stab     stabf  \n",
       "0 -1.723086  0.650456  0.859578  0.887445  0.958034  0.055347  unstable  \n",
       "1 -1.255012  0.413441  0.862414  0.562139  0.781760 -0.005957    stable  \n",
       "2 -0.920492  0.163041  0.766689  0.839444  0.109853  0.003471  unstable  \n",
       "3 -0.997374  0.446209  0.976744  0.929381  0.362718  0.028871  unstable  \n",
       "4 -0.554305  0.797110  0.455450  0.656947  0.820923  0.049860  unstable  "
      ]
     },
     "execution_count": 16,
     "metadata": {},
     "output_type": "execute_result"
    }
   ],
   "source": [
    "import pandas as pd\n",
    "import numpy as np\n",
    "import matplotlib.pyplot as plt\n",
    "\n",
    "df = pd.read_csv('C://Users//HP//Downloads//Data_for_UCI_named.csv')\n",
    "\n",
    "df.head(5)"
   ]
  },
  {
   "cell_type": "code",
   "execution_count": 17,
   "id": "d716b924",
   "metadata": {},
   "outputs": [
    {
     "data": {
      "text/plain": [
       "tau1     0\n",
       "tau2     0\n",
       "tau3     0\n",
       "tau4     0\n",
       "p1       0\n",
       "p2       0\n",
       "p3       0\n",
       "p4       0\n",
       "g1       0\n",
       "g2       0\n",
       "g3       0\n",
       "g4       0\n",
       "stabf    0\n",
       "dtype: int64"
      ]
     },
     "execution_count": 17,
     "metadata": {},
     "output_type": "execute_result"
    }
   ],
   "source": [
    "df = df.drop(columns ='stab')\n",
    "df.isna().sum()"
   ]
  },
  {
   "cell_type": "code",
   "execution_count": 18,
   "id": "1bcdcd84",
   "metadata": {},
   "outputs": [
    {
     "data": {
      "text/plain": [
       "tau1     0\n",
       "tau2     0\n",
       "tau3     0\n",
       "tau4     0\n",
       "p1       0\n",
       "p2       0\n",
       "p3       0\n",
       "p4       0\n",
       "g1       0\n",
       "g2       0\n",
       "g3       0\n",
       "g4       0\n",
       "stabf    0\n",
       "dtype: int64"
      ]
     },
     "execution_count": 18,
     "metadata": {},
     "output_type": "execute_result"
    }
   ],
   "source": [
    "df_stab = df[df.stabf == 'stable'].sample(1000)\n",
    "df_unstab = df[df.stabf == 'unstable'].sample(1000)\n",
    "\n",
    "data_df = df_stab.append(df_unstab)\n",
    "\n",
    "data_df.isna().sum()"
   ]
  },
  {
   "cell_type": "code",
   "execution_count": 19,
   "id": "af07ea01",
   "metadata": {},
   "outputs": [
    {
     "data": {
      "text/plain": [
       "stable      1000\n",
       "unstable    1000\n",
       "Name: stabf, dtype: int64"
      ]
     },
     "execution_count": 19,
     "metadata": {},
     "output_type": "execute_result"
    }
   ],
   "source": [
    "import sklearn.utils\n",
    "df = sklearn.utils.shuffle(data_df)\n",
    "df = data_df.reset_index(drop=True)\n",
    "df.shape\n",
    "\n",
    "df.stabf.value_counts()"
   ]
  },
  {
   "cell_type": "code",
   "execution_count": 20,
   "id": "fd302f3d",
   "metadata": {},
   "outputs": [
    {
     "data": {
      "text/plain": [
       "stable      805\n",
       "unstable    795\n",
       "Name: stabf, dtype: int64"
      ]
     },
     "execution_count": 20,
     "metadata": {},
     "output_type": "execute_result"
    }
   ],
   "source": [
    "#more processing\n",
    "\n",
    "X = data_df.drop(columns='stabf')\n",
    "y = data_df['stabf']\n",
    "\n",
    "#splits data into training and test sets\n",
    "from sklearn.model_selection import train_test_split\n",
    "x_train, x_test, y_train, y_test = train_test_split(X, y, test_size=0.2, random_state=1)\n",
    "y_train.value_counts()"
   ]
  },
  {
   "cell_type": "code",
   "execution_count": 21,
   "id": "d5a047b7",
   "metadata": {},
   "outputs": [],
   "source": [
    "import imblearn\n",
    "from imblearn.over_sampling import SMOTE\n",
    "smote = SMOTE(random_state=1)\n",
    "x_train_balanced, y_balanced = smote.fit_resample(x_train, y_train)"
   ]
  },
  {
   "cell_type": "code",
   "execution_count": 22,
   "id": "c7ec3704",
   "metadata": {},
   "outputs": [],
   "source": [
    "from sklearn.preprocessing import MinMaxScaler\n",
    "scaler = MinMaxScaler()\n",
    "normalised_train_df = scaler.fit_transform(x_train_balanced)\n",
    "normalised_train_df = pd.DataFrame(normalised_train_df, columns=x_train_balanced.columns)"
   ]
  },
  {
   "cell_type": "code",
   "execution_count": 23,
   "id": "35128674",
   "metadata": {},
   "outputs": [],
   "source": [
    "x_test = x_test.reset_index(drop=True)\n",
    "normalised_test_df = scaler.transform(x_test)\n",
    "normalised_test_df = pd.DataFrame(normalised_test_df, columns=x_test.columns)"
   ]
  },
  {
   "cell_type": "code",
   "execution_count": 24,
   "id": "d3719627",
   "metadata": {},
   "outputs": [
    {
     "data": {
      "text/plain": [
       "LogisticRegression()"
      ]
     },
     "execution_count": 24,
     "metadata": {},
     "output_type": "execute_result"
    }
   ],
   "source": [
    "#Logistic Regression\n",
    "from sklearn.linear_model import LogisticRegression\n",
    "log_reg = LogisticRegression()\n",
    "log_reg.fit(normalised_train_df, y_balanced)"
   ]
  },
  {
   "cell_type": "code",
   "execution_count": 25,
   "id": "1cdde7a3",
   "metadata": {},
   "outputs": [
    {
     "data": {
      "text/plain": [
       "LogisticRegression(penalty='12', random_state=1)"
      ]
     },
     "execution_count": 25,
     "metadata": {},
     "output_type": "execute_result"
    }
   ],
   "source": [
    "LogisticRegression(C=1.0, class_weight=None, dual=False, fit_intercept=True, intercept_scaling=1, l1_ratio=None,\n",
    "                  max_iter=100, multi_class='auto', n_jobs=None, penalty='12', random_state=1, solver='lbfgs', \n",
    "                  tol=0.0001, verbose=0,warm_start=False)"
   ]
  },
  {
   "cell_type": "code",
   "execution_count": 26,
   "id": "e5ab130f",
   "metadata": {},
   "outputs": [
    {
     "data": {
      "text/plain": [
       "array([0.74485931, 0.7919074 , 0.81662693, 0.79187528, 0.77010651])"
      ]
     },
     "execution_count": 26,
     "metadata": {},
     "output_type": "execute_result"
    }
   ],
   "source": [
    "# Cross Validation and Accuracy\n",
    "from sklearn.model_selection import cross_val_score\n",
    "scores = cross_val_score(log_reg, normalised_train_df, y_balanced, cv=5, scoring='f1_macro')\n",
    "scores"
   ]
  },
  {
   "cell_type": "code",
   "execution_count": 27,
   "id": "de9cccd1",
   "metadata": {},
   "outputs": [
    {
     "data": {
      "text/plain": [
       "array([[156,  39],\n",
       "       [ 46, 159]], dtype=int64)"
      ]
     },
     "execution_count": 27,
     "metadata": {},
     "output_type": "execute_result"
    }
   ],
   "source": [
    "#Confusion Matrix\n",
    "from sklearn.metrics import recall_score, accuracy_score, precision_score, f1_score, confusion_matrix\n",
    "\n",
    "new_predictions = log_reg.predict(normalised_test_df)\n",
    "\n",
    "cnf_mat = confusion_matrix(y_true=y_test, y_pred=new_predictions, labels=['stable','unstable'])\n",
    "cnf_mat"
   ]
  },
  {
   "cell_type": "code",
   "execution_count": 28,
   "id": "c45afefd",
   "metadata": {},
   "outputs": [
    {
     "name": "stdout",
     "output_type": "stream",
     "text": [
      "Accuracy: 79\n"
     ]
    }
   ],
   "source": [
    "accuracy = accuracy_score(y_true=y_test, y_pred=new_predictions)\n",
    "print('Accuracy: {}'.format(round(accuracy*100), 2))"
   ]
  },
  {
   "cell_type": "code",
   "execution_count": 29,
   "id": "23ebc4a0",
   "metadata": {},
   "outputs": [
    {
     "name": "stdout",
     "output_type": "stream",
     "text": [
      "Precision: 77\n"
     ]
    }
   ],
   "source": [
    "precision = precision_score(y_true=y_test, y_pred=new_predictions, pos_label='stable')\n",
    "print('Precision: {}'.format(round(precision*100), 2))"
   ]
  },
  {
   "cell_type": "code",
   "execution_count": 30,
   "id": "7eb1cf6b",
   "metadata": {},
   "outputs": [
    {
     "name": "stdout",
     "output_type": "stream",
     "text": [
      "Recall: 79\n"
     ]
    }
   ],
   "source": [
    "recall = recall_score(y_true=y_test, y_pred=new_predictions, pos_label='stable')\n",
    "print('Recall: {}'.format(round(accuracy*100), 2))"
   ]
  },
  {
   "cell_type": "code",
   "execution_count": 31,
   "id": "a4655245",
   "metadata": {},
   "outputs": [
    {
     "name": "stdout",
     "output_type": "stream",
     "text": [
      "F1: 79\n"
     ]
    }
   ],
   "source": [
    "f1 = f1_score(y_true=y_test, y_pred=new_predictions, pos_label='stable')\n",
    "print('F1: {}'.format(round(f1*100), 2))"
   ]
  },
  {
   "cell_type": "code",
   "execution_count": 32,
   "id": "01eb6a5d",
   "metadata": {
    "scrolled": true
   },
   "outputs": [
    {
     "data": {
      "text/plain": [
       "array(['stable', 'unstable', 'unstable', 'unstable', 'unstable',\n",
       "       'unstable', 'stable', 'unstable', 'unstable', 'stable', 'unstable',\n",
       "       'unstable', 'unstable', 'stable', 'stable', 'unstable', 'stable',\n",
       "       'unstable', 'stable', 'unstable', 'stable', 'stable', 'unstable',\n",
       "       'unstable', 'stable', 'stable', 'unstable', 'stable', 'stable',\n",
       "       'stable', 'unstable', 'stable', 'unstable', 'stable', 'stable',\n",
       "       'stable', 'stable', 'stable', 'stable', 'unstable', 'stable',\n",
       "       'stable', 'unstable', 'unstable', 'unstable', 'stable', 'stable',\n",
       "       'unstable', 'unstable', 'unstable', 'unstable', 'unstable',\n",
       "       'stable', 'stable', 'unstable', 'stable', 'stable', 'unstable',\n",
       "       'stable', 'unstable', 'unstable', 'stable', 'unstable', 'unstable',\n",
       "       'unstable', 'stable', 'unstable', 'stable', 'stable', 'unstable',\n",
       "       'unstable', 'unstable', 'unstable', 'unstable', 'stable',\n",
       "       'unstable', 'unstable', 'unstable', 'unstable', 'stable', 'stable',\n",
       "       'stable', 'stable', 'unstable', 'unstable', 'unstable', 'stable',\n",
       "       'stable', 'stable', 'stable', 'unstable', 'stable', 'stable',\n",
       "       'unstable', 'stable', 'stable', 'unstable', 'unstable', 'stable',\n",
       "       'stable', 'stable', 'stable', 'stable', 'unstable', 'unstable',\n",
       "       'unstable', 'unstable', 'unstable', 'stable', 'unstable', 'stable',\n",
       "       'unstable', 'unstable', 'unstable', 'unstable', 'stable', 'stable',\n",
       "       'stable', 'unstable', 'stable', 'stable', 'unstable', 'unstable',\n",
       "       'unstable', 'stable', 'unstable', 'unstable', 'unstable', 'stable',\n",
       "       'stable', 'unstable', 'stable', 'stable', 'unstable', 'stable',\n",
       "       'unstable', 'unstable', 'stable', 'stable', 'stable', 'stable',\n",
       "       'unstable', 'unstable', 'unstable', 'unstable', 'unstable',\n",
       "       'unstable', 'stable', 'unstable', 'stable', 'unstable', 'stable',\n",
       "       'unstable', 'unstable', 'stable', 'unstable', 'unstable', 'stable',\n",
       "       'unstable', 'unstable', 'unstable', 'unstable', 'unstable',\n",
       "       'stable', 'stable', 'unstable', 'stable', 'stable', 'unstable',\n",
       "       'unstable', 'unstable', 'stable', 'stable', 'unstable', 'stable',\n",
       "       'stable', 'unstable', 'unstable', 'stable', 'unstable', 'unstable',\n",
       "       'unstable', 'stable', 'unstable', 'unstable', 'unstable',\n",
       "       'unstable', 'unstable', 'stable', 'stable', 'stable', 'unstable',\n",
       "       'unstable', 'unstable', 'stable', 'unstable', 'stable', 'stable',\n",
       "       'stable', 'stable', 'stable', 'unstable', 'unstable', 'unstable',\n",
       "       'unstable', 'stable', 'stable', 'unstable', 'unstable', 'stable',\n",
       "       'unstable', 'unstable', 'stable', 'unstable', 'stable', 'stable',\n",
       "       'stable', 'stable', 'unstable', 'stable', 'unstable', 'unstable',\n",
       "       'stable', 'stable', 'unstable', 'stable', 'unstable', 'unstable',\n",
       "       'stable', 'unstable', 'unstable', 'unstable', 'stable', 'stable',\n",
       "       'stable', 'unstable', 'stable', 'unstable', 'unstable', 'unstable',\n",
       "       'stable', 'stable', 'unstable', 'stable', 'stable', 'stable',\n",
       "       'stable', 'stable', 'unstable', 'unstable', 'unstable', 'stable',\n",
       "       'stable', 'unstable', 'stable', 'unstable', 'unstable', 'stable',\n",
       "       'stable', 'stable', 'stable', 'unstable', 'stable', 'stable',\n",
       "       'stable', 'unstable', 'unstable', 'unstable', 'unstable',\n",
       "       'unstable', 'unstable', 'unstable', 'stable', 'unstable', 'stable',\n",
       "       'stable', 'stable', 'unstable', 'stable', 'unstable', 'stable',\n",
       "       'unstable', 'unstable', 'unstable', 'unstable', 'stable',\n",
       "       'unstable', 'unstable', 'unstable', 'unstable', 'unstable',\n",
       "       'stable', 'unstable', 'unstable', 'unstable', 'unstable',\n",
       "       'unstable', 'stable', 'unstable', 'stable', 'unstable', 'stable',\n",
       "       'unstable', 'unstable', 'unstable', 'unstable', 'stable',\n",
       "       'unstable', 'stable', 'unstable', 'unstable', 'stable', 'stable',\n",
       "       'unstable', 'unstable', 'stable', 'stable', 'stable', 'stable',\n",
       "       'stable', 'unstable', 'stable', 'stable', 'unstable', 'unstable',\n",
       "       'unstable', 'stable', 'unstable', 'stable', 'stable', 'unstable',\n",
       "       'unstable', 'unstable', 'unstable', 'unstable', 'stable', 'stable',\n",
       "       'stable', 'stable', 'stable', 'unstable', 'stable', 'unstable',\n",
       "       'unstable', 'unstable', 'stable', 'stable', 'stable', 'unstable',\n",
       "       'unstable', 'stable', 'stable', 'unstable', 'stable', 'stable',\n",
       "       'stable', 'stable', 'stable', 'stable', 'unstable', 'stable',\n",
       "       'stable', 'unstable', 'unstable', 'unstable', 'stable', 'unstable',\n",
       "       'unstable', 'stable', 'stable', 'stable', 'stable', 'unstable',\n",
       "       'stable', 'unstable', 'unstable', 'stable', 'stable', 'unstable',\n",
       "       'stable', 'unstable', 'stable', 'stable', 'unstable', 'stable',\n",
       "       'unstable', 'stable', 'stable', 'stable', 'unstable', 'stable',\n",
       "       'unstable', 'stable', 'unstable', 'unstable', 'stable', 'stable',\n",
       "       'stable', 'unstable', 'unstable'], dtype=object)"
      ]
     },
     "execution_count": 32,
     "metadata": {},
     "output_type": "execute_result"
    }
   ],
   "source": [
    "from sklearn.tree import DecisionTreeClassifier\n",
    "\n",
    "dec_tree = DecisionTreeClassifier()\n",
    "dec_tree.fit(normalised_train_df, y_balanced)\n",
    "\n",
    "dec_tree.predict(normalised_test_df)"
   ]
  },
  {
   "cell_type": "code",
   "execution_count": 44,
   "id": "40b45bef",
   "metadata": {},
   "outputs": [
    {
     "data": {
      "text/plain": [
       "array(['stable', 'unstable', 'stable', 'unstable', 'unstable', 'unstable',\n",
       "       'stable', 'stable', 'stable', 'stable', 'unstable', 'stable',\n",
       "       'unstable', 'unstable', 'stable', 'unstable', 'stable', 'unstable',\n",
       "       'stable', 'unstable', 'stable', 'unstable', 'unstable', 'stable',\n",
       "       'stable', 'stable', 'stable', 'stable', 'unstable', 'stable',\n",
       "       'unstable', 'stable', 'unstable', 'stable', 'stable', 'stable',\n",
       "       'stable', 'stable', 'stable', 'unstable', 'stable', 'stable',\n",
       "       'stable', 'unstable', 'unstable', 'stable', 'stable', 'unstable',\n",
       "       'stable', 'unstable', 'unstable', 'stable', 'stable', 'stable',\n",
       "       'unstable', 'stable', 'stable', 'stable', 'unstable', 'unstable',\n",
       "       'stable', 'stable', 'unstable', 'stable', 'unstable', 'stable',\n",
       "       'stable', 'stable', 'stable', 'unstable', 'unstable', 'unstable',\n",
       "       'unstable', 'unstable', 'unstable', 'unstable', 'unstable',\n",
       "       'unstable', 'unstable', 'stable', 'stable', 'stable', 'unstable',\n",
       "       'stable', 'unstable', 'unstable', 'stable', 'stable', 'stable',\n",
       "       'stable', 'stable', 'stable', 'stable', 'unstable', 'unstable',\n",
       "       'stable', 'stable', 'unstable', 'unstable', 'stable', 'unstable',\n",
       "       'stable', 'stable', 'unstable', 'stable', 'unstable', 'unstable',\n",
       "       'unstable', 'stable', 'unstable', 'stable', 'unstable', 'stable',\n",
       "       'unstable', 'stable', 'unstable', 'stable', 'stable', 'unstable',\n",
       "       'stable', 'unstable', 'stable', 'unstable', 'unstable', 'stable',\n",
       "       'unstable', 'unstable', 'unstable', 'stable', 'stable', 'unstable',\n",
       "       'stable', 'stable', 'stable', 'unstable', 'unstable', 'unstable',\n",
       "       'stable', 'stable', 'stable', 'stable', 'stable', 'unstable',\n",
       "       'unstable', 'stable', 'unstable', 'unstable', 'unstable',\n",
       "       'unstable', 'unstable', 'stable', 'stable', 'unstable', 'unstable',\n",
       "       'stable', 'unstable', 'unstable', 'stable', 'unstable', 'unstable',\n",
       "       'unstable', 'unstable', 'unstable', 'stable', 'stable', 'unstable',\n",
       "       'stable', 'stable', 'stable', 'stable', 'stable', 'unstable',\n",
       "       'stable', 'unstable', 'stable', 'stable', 'stable', 'unstable',\n",
       "       'stable', 'unstable', 'stable', 'stable', 'stable', 'unstable',\n",
       "       'unstable', 'unstable', 'unstable', 'unstable', 'stable', 'stable',\n",
       "       'stable', 'unstable', 'unstable', 'unstable', 'stable', 'stable',\n",
       "       'stable', 'stable', 'stable', 'stable', 'stable', 'unstable',\n",
       "       'unstable', 'unstable', 'unstable', 'stable', 'stable', 'unstable',\n",
       "       'unstable', 'stable', 'unstable', 'unstable', 'stable', 'stable',\n",
       "       'stable', 'stable', 'stable', 'stable', 'unstable', 'stable',\n",
       "       'unstable', 'unstable', 'unstable', 'stable', 'unstable', 'stable',\n",
       "       'stable', 'unstable', 'stable', 'unstable', 'unstable', 'unstable',\n",
       "       'stable', 'stable', 'stable', 'unstable', 'stable', 'unstable',\n",
       "       'unstable', 'unstable', 'stable', 'stable', 'stable', 'unstable',\n",
       "       'stable', 'unstable', 'stable', 'stable', 'unstable', 'unstable',\n",
       "       'unstable', 'stable', 'stable', 'stable', 'stable', 'unstable',\n",
       "       'stable', 'unstable', 'stable', 'stable', 'unstable', 'unstable',\n",
       "       'stable', 'unstable', 'stable', 'unstable', 'unstable', 'unstable',\n",
       "       'unstable', 'unstable', 'unstable', 'unstable', 'stable',\n",
       "       'unstable', 'unstable', 'stable', 'stable', 'unstable', 'stable',\n",
       "       'unstable', 'stable', 'unstable', 'stable', 'unstable', 'unstable',\n",
       "       'stable', 'stable', 'stable', 'unstable', 'unstable', 'unstable',\n",
       "       'stable', 'unstable', 'stable', 'unstable', 'unstable', 'stable',\n",
       "       'stable', 'unstable', 'stable', 'unstable', 'stable', 'unstable',\n",
       "       'unstable', 'stable', 'unstable', 'unstable', 'stable', 'stable',\n",
       "       'unstable', 'unstable', 'stable', 'stable', 'unstable', 'unstable',\n",
       "       'stable', 'stable', 'stable', 'stable', 'unstable', 'unstable',\n",
       "       'stable', 'stable', 'unstable', 'unstable', 'unstable', 'stable',\n",
       "       'unstable', 'unstable', 'stable', 'unstable', 'stable', 'unstable',\n",
       "       'stable', 'unstable', 'stable', 'stable', 'stable', 'stable',\n",
       "       'unstable', 'stable', 'stable', 'unstable', 'stable', 'unstable',\n",
       "       'stable', 'stable', 'stable', 'unstable', 'unstable', 'stable',\n",
       "       'stable', 'unstable', 'stable', 'stable', 'stable', 'stable',\n",
       "       'stable', 'unstable', 'unstable', 'stable', 'stable', 'stable',\n",
       "       'unstable', 'unstable', 'unstable', 'unstable', 'stable', 'stable',\n",
       "       'stable', 'unstable', 'stable', 'stable', 'stable', 'unstable',\n",
       "       'stable', 'unstable', 'stable', 'stable', 'stable', 'unstable',\n",
       "       'stable', 'stable', 'unstable', 'stable', 'unstable', 'unstable',\n",
       "       'stable', 'unstable', 'unstable', 'stable', 'unstable', 'unstable',\n",
       "       'unstable', 'unstable', 'stable', 'stable', 'stable', 'unstable',\n",
       "       'stable'], dtype=object)"
      ]
     },
     "execution_count": 44,
     "metadata": {},
     "output_type": "execute_result"
    }
   ],
   "source": [
    "from sklearn.ensemble import RandomForestClassifier\n",
    "random_model = RandomForestClassifier(n_estimators=10, random_state = 1)\n",
    "random_model.fit(normalised_train_df, y_balanced)\n",
    "\n",
    "random_model.predict(normalised_test_df)"
   ]
  },
  {
   "cell_type": "code",
   "execution_count": 45,
   "id": "72d658ca",
   "metadata": {},
   "outputs": [
    {
     "data": {
      "text/plain": [
       "array(['stable', 'unstable', 'stable', 'unstable', 'unstable', 'unstable',\n",
       "       'stable', 'stable', 'stable', 'stable', 'unstable', 'unstable',\n",
       "       'unstable', 'unstable', 'stable', 'unstable', 'stable', 'unstable',\n",
       "       'stable', 'unstable', 'stable', 'unstable', 'unstable', 'stable',\n",
       "       'stable', 'stable', 'unstable', 'stable', 'unstable', 'stable',\n",
       "       'unstable', 'stable', 'unstable', 'stable', 'stable', 'stable',\n",
       "       'stable', 'stable', 'stable', 'unstable', 'stable', 'stable',\n",
       "       'unstable', 'unstable', 'unstable', 'stable', 'stable', 'unstable',\n",
       "       'unstable', 'unstable', 'unstable', 'unstable', 'stable', 'stable',\n",
       "       'unstable', 'stable', 'stable', 'stable', 'stable', 'unstable',\n",
       "       'stable', 'stable', 'unstable', 'stable', 'unstable', 'stable',\n",
       "       'unstable', 'stable', 'stable', 'unstable', 'unstable', 'unstable',\n",
       "       'unstable', 'unstable', 'unstable', 'unstable', 'unstable',\n",
       "       'unstable', 'unstable', 'stable', 'stable', 'stable', 'stable',\n",
       "       'stable', 'unstable', 'unstable', 'stable', 'stable', 'stable',\n",
       "       'stable', 'stable', 'stable', 'stable', 'unstable', 'unstable',\n",
       "       'stable', 'unstable', 'unstable', 'stable', 'stable', 'unstable',\n",
       "       'stable', 'stable', 'stable', 'unstable', 'unstable', 'unstable',\n",
       "       'stable', 'stable', 'unstable', 'stable', 'unstable', 'unstable',\n",
       "       'unstable', 'stable', 'stable', 'stable', 'stable', 'unstable',\n",
       "       'unstable', 'unstable', 'unstable', 'unstable', 'unstable',\n",
       "       'stable', 'unstable', 'unstable', 'unstable', 'unstable', 'stable',\n",
       "       'unstable', 'stable', 'stable', 'unstable', 'stable', 'unstable',\n",
       "       'unstable', 'stable', 'unstable', 'stable', 'unstable', 'stable',\n",
       "       'unstable', 'unstable', 'unstable', 'unstable', 'unstable',\n",
       "       'unstable', 'unstable', 'unstable', 'stable', 'stable', 'unstable',\n",
       "       'unstable', 'stable', 'unstable', 'unstable', 'stable', 'stable',\n",
       "       'unstable', 'unstable', 'unstable', 'unstable', 'stable',\n",
       "       'unstable', 'unstable', 'stable', 'stable', 'stable', 'stable',\n",
       "       'stable', 'unstable', 'stable', 'unstable', 'stable', 'stable',\n",
       "       'stable', 'stable', 'stable', 'unstable', 'stable', 'stable',\n",
       "       'stable', 'unstable', 'unstable', 'unstable', 'unstable',\n",
       "       'unstable', 'stable', 'stable', 'stable', 'unstable', 'unstable',\n",
       "       'unstable', 'stable', 'stable', 'stable', 'stable', 'unstable',\n",
       "       'stable', 'stable', 'unstable', 'unstable', 'unstable', 'unstable',\n",
       "       'stable', 'unstable', 'unstable', 'unstable', 'stable', 'unstable',\n",
       "       'unstable', 'stable', 'stable', 'stable', 'stable', 'stable',\n",
       "       'stable', 'unstable', 'stable', 'unstable', 'unstable', 'unstable',\n",
       "       'stable', 'unstable', 'stable', 'stable', 'unstable', 'stable',\n",
       "       'stable', 'unstable', 'unstable', 'unstable', 'stable', 'stable',\n",
       "       'unstable', 'stable', 'unstable', 'unstable', 'unstable', 'stable',\n",
       "       'stable', 'stable', 'unstable', 'stable', 'unstable', 'stable',\n",
       "       'stable', 'unstable', 'unstable', 'unstable', 'stable', 'stable',\n",
       "       'unstable', 'stable', 'unstable', 'unstable', 'unstable', 'stable',\n",
       "       'stable', 'unstable', 'unstable', 'stable', 'unstable', 'unstable',\n",
       "       'unstable', 'unstable', 'unstable', 'unstable', 'unstable',\n",
       "       'unstable', 'unstable', 'stable', 'unstable', 'unstable', 'stable',\n",
       "       'stable', 'unstable', 'stable', 'unstable', 'stable', 'unstable',\n",
       "       'stable', 'unstable', 'unstable', 'stable', 'stable', 'stable',\n",
       "       'unstable', 'unstable', 'unstable', 'stable', 'unstable', 'stable',\n",
       "       'unstable', 'unstable', 'stable', 'stable', 'unstable', 'stable',\n",
       "       'stable', 'stable', 'unstable', 'unstable', 'stable', 'unstable',\n",
       "       'unstable', 'stable', 'stable', 'unstable', 'stable', 'stable',\n",
       "       'stable', 'unstable', 'unstable', 'stable', 'stable', 'stable',\n",
       "       'stable', 'unstable', 'unstable', 'stable', 'stable', 'unstable',\n",
       "       'unstable', 'unstable', 'stable', 'unstable', 'unstable', 'stable',\n",
       "       'unstable', 'unstable', 'unstable', 'unstable', 'unstable',\n",
       "       'stable', 'stable', 'stable', 'stable', 'stable', 'stable',\n",
       "       'stable', 'unstable', 'unstable', 'unstable', 'stable', 'stable',\n",
       "       'stable', 'unstable', 'unstable', 'stable', 'stable', 'unstable',\n",
       "       'stable', 'stable', 'stable', 'stable', 'stable', 'unstable',\n",
       "       'unstable', 'stable', 'stable', 'unstable', 'unstable', 'unstable',\n",
       "       'stable', 'unstable', 'unstable', 'stable', 'stable', 'unstable',\n",
       "       'stable', 'stable', 'stable', 'unstable', 'stable', 'unstable',\n",
       "       'stable', 'stable', 'stable', 'unstable', 'stable', 'stable',\n",
       "       'unstable', 'stable', 'unstable', 'unstable', 'stable', 'unstable',\n",
       "       'unstable', 'stable', 'stable', 'unstable', 'unstable', 'unstable',\n",
       "       'stable', 'stable', 'stable', 'unstable', 'unstable'], dtype=object)"
      ]
     },
     "execution_count": 45,
     "metadata": {},
     "output_type": "execute_result"
    }
   ],
   "source": [
    "from sklearn.ensemble import ExtraTreesClassifier\n",
    "Extree_model=ExtraTreesClassifier(n_estimators=100, random_state=1)\n",
    "Extree_model.fit(normalised_train_df, y_balanced)\n",
    "\n",
    "Extree_model.predict(normalised_test_df)"
   ]
  },
  {
   "cell_type": "code",
   "execution_count": 39,
   "id": "fdac36f6",
   "metadata": {},
   "outputs": [],
   "source": [
    "from sklearn.model_selection import RandomizedSearchCV\n",
    "\n",
    "n_estimators = [50, 100, 300, 500, 1000]\n",
    "#number of features to consider at every split\n",
    "max_features = ['auto', 'sqrt', 'log2', None]\n",
    "\n",
    "#minimum number of samples required at every split\n",
    "min_samples_split = [2,3,5,7,9]\n",
    "\n",
    "#minimum number of samples required at each leaf node\n",
    "min_samples_leaf = [1,2,4,6,8]\n",
    "\n",
    "#create hyper_parameter grid\n",
    "hyper_parameter_grid = {'max_features': max_features, \n",
    "                        'min_samples_split': min_samples_split,  \n",
    "                        'min_samples_leaf': min_samples_leaf}\n",
    "\n",
    "model_tuned = RandomizedSearchCV(dec_tree, param_distributions=hyper_parameter_grid, random_state=1)"
   ]
  },
  {
   "cell_type": "code",
   "execution_count": 41,
   "id": "8e398d0c",
   "metadata": {},
   "outputs": [
    {
     "data": {
      "text/plain": [
       "{'min_samples_split': 7, 'min_samples_leaf': 6, 'max_features': None}"
      ]
     },
     "execution_count": 41,
     "metadata": {},
     "output_type": "execute_result"
    }
   ],
   "source": [
    "dd = model_tuned.fit(normalised_train_df, y_balanced)\n",
    "dd.best_params_"
   ]
  },
  {
   "cell_type": "code",
   "execution_count": 43,
   "id": "b7d6ae55",
   "metadata": {},
   "outputs": [
    {
     "data": {
      "text/plain": [
       "array(['stable', 'unstable', 'unstable', 'unstable', 'unstable',\n",
       "       'unstable', 'stable', 'unstable', 'unstable', 'stable', 'unstable',\n",
       "       'unstable', 'unstable', 'unstable', 'stable', 'unstable', 'stable',\n",
       "       'unstable', 'stable', 'unstable', 'stable', 'unstable', 'unstable',\n",
       "       'stable', 'stable', 'stable', 'stable', 'stable', 'stable',\n",
       "       'stable', 'unstable', 'stable', 'unstable', 'stable', 'unstable',\n",
       "       'stable', 'stable', 'stable', 'stable', 'unstable', 'stable',\n",
       "       'stable', 'unstable', 'unstable', 'stable', 'unstable', 'stable',\n",
       "       'unstable', 'stable', 'unstable', 'unstable', 'stable', 'stable',\n",
       "       'stable', 'stable', 'stable', 'stable', 'unstable', 'stable',\n",
       "       'unstable', 'stable', 'stable', 'unstable', 'unstable', 'unstable',\n",
       "       'stable', 'stable', 'stable', 'stable', 'unstable', 'unstable',\n",
       "       'unstable', 'unstable', 'unstable', 'unstable', 'unstable',\n",
       "       'unstable', 'unstable', 'unstable', 'stable', 'stable', 'stable',\n",
       "       'stable', 'stable', 'unstable', 'unstable', 'stable', 'stable',\n",
       "       'stable', 'stable', 'stable', 'stable', 'stable', 'unstable',\n",
       "       'unstable', 'stable', 'stable', 'unstable', 'stable', 'stable',\n",
       "       'unstable', 'stable', 'stable', 'unstable', 'stable', 'unstable',\n",
       "       'unstable', 'stable', 'stable', 'unstable', 'stable', 'stable',\n",
       "       'unstable', 'unstable', 'stable', 'unstable', 'stable', 'unstable',\n",
       "       'unstable', 'unstable', 'unstable', 'unstable', 'unstable',\n",
       "       'stable', 'stable', 'unstable', 'unstable', 'unstable', 'unstable',\n",
       "       'stable', 'unstable', 'stable', 'stable', 'stable', 'unstable',\n",
       "       'unstable', 'unstable', 'stable', 'unstable', 'stable', 'stable',\n",
       "       'stable', 'unstable', 'unstable', 'stable', 'unstable', 'stable',\n",
       "       'unstable', 'unstable', 'unstable', 'stable', 'unstable',\n",
       "       'unstable', 'unstable', 'stable', 'unstable', 'unstable', 'stable',\n",
       "       'unstable', 'unstable', 'unstable', 'unstable', 'stable', 'stable',\n",
       "       'stable', 'stable', 'stable', 'stable', 'unstable', 'stable',\n",
       "       'unstable', 'unstable', 'stable', 'unstable', 'stable', 'unstable',\n",
       "       'stable', 'unstable', 'stable', 'unstable', 'unstable', 'unstable',\n",
       "       'stable', 'unstable', 'unstable', 'unstable', 'unstable',\n",
       "       'unstable', 'stable', 'stable', 'stable', 'unstable', 'unstable',\n",
       "       'unstable', 'stable', 'unstable', 'stable', 'stable', 'stable',\n",
       "       'stable', 'stable', 'unstable', 'unstable', 'stable', 'unstable',\n",
       "       'stable', 'unstable', 'unstable', 'unstable', 'stable', 'unstable',\n",
       "       'unstable', 'stable', 'stable', 'stable', 'stable', 'stable',\n",
       "       'stable', 'unstable', 'stable', 'unstable', 'stable', 'stable',\n",
       "       'stable', 'unstable', 'stable', 'stable', 'unstable', 'stable',\n",
       "       'unstable', 'unstable', 'unstable', 'unstable', 'stable', 'stable',\n",
       "       'unstable', 'stable', 'unstable', 'unstable', 'unstable', 'stable',\n",
       "       'stable', 'stable', 'unstable', 'stable', 'unstable', 'unstable',\n",
       "       'stable', 'unstable', 'unstable', 'unstable', 'stable', 'stable',\n",
       "       'unstable', 'unstable', 'unstable', 'unstable', 'unstable',\n",
       "       'stable', 'stable', 'stable', 'unstable', 'stable', 'unstable',\n",
       "       'unstable', 'unstable', 'unstable', 'unstable', 'unstable',\n",
       "       'unstable', 'stable', 'unstable', 'stable', 'unstable', 'unstable',\n",
       "       'unstable', 'stable', 'unstable', 'stable', 'unstable', 'stable',\n",
       "       'unstable', 'stable', 'unstable', 'unstable', 'unstable',\n",
       "       'unstable', 'stable', 'unstable', 'unstable', 'unstable', 'stable',\n",
       "       'unstable', 'stable', 'unstable', 'stable', 'stable', 'stable',\n",
       "       'unstable', 'stable', 'unstable', 'unstable', 'unstable',\n",
       "       'unstable', 'stable', 'unstable', 'unstable', 'stable', 'unstable',\n",
       "       'unstable', 'stable', 'stable', 'stable', 'unstable', 'unstable',\n",
       "       'stable', 'unstable', 'stable', 'stable', 'unstable', 'unstable',\n",
       "       'stable', 'stable', 'unstable', 'unstable', 'unstable', 'stable',\n",
       "       'unstable', 'stable', 'stable', 'unstable', 'stable', 'unstable',\n",
       "       'unstable', 'unstable', 'stable', 'unstable', 'stable', 'unstable',\n",
       "       'stable', 'stable', 'unstable', 'unstable', 'stable', 'unstable',\n",
       "       'stable', 'stable', 'stable', 'unstable', 'unstable', 'stable',\n",
       "       'stable', 'unstable', 'stable', 'stable', 'stable', 'stable',\n",
       "       'stable', 'stable', 'unstable', 'stable', 'stable', 'unstable',\n",
       "       'unstable', 'unstable', 'stable', 'unstable', 'unstable', 'stable',\n",
       "       'stable', 'unstable', 'stable', 'stable', 'stable', 'unstable',\n",
       "       'stable', 'unstable', 'unstable', 'stable', 'stable', 'unstable',\n",
       "       'stable', 'stable', 'unstable', 'stable', 'unstable', 'unstable',\n",
       "       'stable', 'unstable', 'unstable', 'stable', 'unstable', 'unstable',\n",
       "       'unstable', 'unstable', 'stable', 'stable', 'stable', 'unstable',\n",
       "       'unstable'], dtype=object)"
      ]
     },
     "execution_count": 43,
     "metadata": {},
     "output_type": "execute_result"
    }
   ],
   "source": [
    "from sklearn.ensemble import GradientBoostingClassifier\n",
    "grad_model = GradientBoostingClassifier(n_estimators=100, learning_rate = 1.0, max_depth = 1, random_state = 1)\n",
    "grad_model.fit(normalised_train_df, y_balanced)\n",
    "\n",
    "grad_model.predict(normalised_test_df)"
   ]
  },
  {
   "cell_type": "code",
   "execution_count": null,
   "id": "5665d42e",
   "metadata": {},
   "outputs": [],
   "source": []
  }
 ],
 "metadata": {
  "kernelspec": {
   "display_name": "Python 3",
   "language": "python",
   "name": "python3"
  },
  "language_info": {
   "codemirror_mode": {
    "name": "ipython",
    "version": 3
   },
   "file_extension": ".py",
   "mimetype": "text/x-python",
   "name": "python",
   "nbconvert_exporter": "python",
   "pygments_lexer": "ipython3",
   "version": "3.8.8"
  }
 },
 "nbformat": 4,
 "nbformat_minor": 5
}
